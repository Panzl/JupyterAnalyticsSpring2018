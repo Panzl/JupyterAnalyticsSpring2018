{
 "cells": [
  {
   "cell_type": "markdown",
   "metadata": {},
   "source": [
    "<p style=\"text-align:center\">\n",
    "PSY 394U <b>Data Analytics with Python</b>, Spring 2018\n",
    "\n",
    "\n",
    "<img style=\"width: 400px; padding: 0px;\" src=\"https://github.com/sathayas/JupyterAnalyticsSpring2018/blob/master/images/Title_pics.png?raw=true\" alt=\"title pics\"/>\n",
    "\n",
    "</p>\n",
    "\n",
    "<p style=\"text-align:center; font-size:40px; margin-bottom: 30px;\"><b> Linear discriminant analysis (LDA) </b></p>\n",
    "\n",
    "<p style=\"text-align:center; font-size:18px; margin-bottom: 32px;\"><b>February 8, 2018</b></p>\n",
    "\n",
    "<hr style=\"height:5px;border:none\" />"
   ]
  },
  {
   "cell_type": "markdown",
   "metadata": {},
   "source": [
    "# 1. What is a linear discriminant analysis?\n",
    "<hr style=\"height:1px;border:none\" />\n",
    "\n",
    "We have seen that a PCA is used to describe as much variability in the data with as few PCs as possible. The idea of a **linear discriminant analysis (LDA)** is somewhat similar to that. The main difference is that an LDA attempts to separate groups of observations, whereas PCA does not use any classification labels on the data. In other words, an LDA seeks a low-dimensional representation of data while separating groups as much as possible. An LDA utilizes the target information of observations; this is an example of ***supervised learning***.\n",
    "\n",
    "<img style=\"width: 554px; padding: 0px;\" src=\"https://github.com/sathayas/JupyterAnalyticsSpring2018/blob/master/images/LDA_Projection.jpg?raw=true\" alt=\"Schematic of LDA, compared to PCA\"/>\n",
    "\n",
    "Like PCAs, components produced by an LDA are uncorrelated. "
   ]
  },
  {
   "cell_type": "code",
   "execution_count": null,
   "metadata": {
    "collapsed": true
   },
   "outputs": [],
   "source": []
  }
 ],
 "metadata": {
  "kernelspec": {
   "display_name": "Python 3",
   "language": "python",
   "name": "python3"
  },
  "language_info": {
   "codemirror_mode": {
    "name": "ipython",
    "version": 3
   },
   "file_extension": ".py",
   "mimetype": "text/x-python",
   "name": "python",
   "nbconvert_exporter": "python",
   "pygments_lexer": "ipython3",
   "version": "3.5.1"
  }
 },
 "nbformat": 4,
 "nbformat_minor": 2
}
