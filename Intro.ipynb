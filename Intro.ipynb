{
 "cells": [
  {
   "cell_type": "markdown",
   "metadata": {},
   "source": [
    "<p style=\"text-align:center\">\n",
    "PSY 394U <b>Data Analytics with Python</b>, Spring 2018\n",
    "\n",
    "\n",
    "<img style=\"width: 400px; padding: 0px;\" src=\"https://github.com/sathayas/JupyterAnalyticsSpring2018/blob/master/images/Title_pics.png?raw=true\" alt=\"title pics\"/>\n",
    "\n",
    "</p>\n",
    "\n",
    "<p style=\"text-align:center; font-size:40px; margin-bottom: 30px;\"><b>Overview & Python refresher</b></p>\n",
    "\n",
    "<p style=\"text-align:center; font-size:18px; margin-bottom: 32px;\"><b>January 16, 2018</b></p>\n",
    "\n",
    "<hr style=\"height:5px;border:none\" />"
   ]
  },
  {
   "cell_type": "markdown",
   "metadata": {},
   "source": [
    "# 1. Overview\n",
    "<hr style=\"height:1px;border:none\" />"
   ]
  },
  {
   "cell_type": "markdown",
   "metadata": {},
   "source": [
    "We will be dealing with non-traditional data analysis techniques and data throughout the semester. Here, non-traditional is in contrast to traditional statistical approaches of inference and estimation. \n",
    "\n",
    "## Machine learning\n",
    "The goal is to ***learn*** from the data in an attempt to predict. This data-driven approach is in contrast to a traditional statistical approach in which data are assumed to originate from a certain model and/or distribution. We will use **`Scikit-learn`** to implement some algorithms. \n",
    "\n",
    "### Unsupervised learning\n",
    "You only have a collection of observations as your data, without any labels. The goal is to categorize them into groups solely based on what is available from the data.\n",
    "\n",
    "<img style=\"width: 300px; padding: 0px;\" src=\"https://github.com/sathayas/JupyterAnalyticsSpring2018/blob/master/images/Intro_UnsupervisedEg.png?raw=true\" alt=\"Clustering example\"/>\n",
    "\n",
    "### Supervised learning\n",
    "You a collection of observations as your data, along with some outcome measures. Your goal is to come up with an algorithm to predict the outcome for a new observation. \n",
    "\n",
    "<img style=\"width: 300px; padding: 0px;\" src=\"https://github.com/sathayas/JupyterAnalyticsSpring2018/blob/master/images/Intro_SupervisedEg.png?raw=true\" alt=\"Support vector machine example\"/>\n",
    "\n",
    "\n",
    "## Network analysis\n",
    "Here, your data set describes relationships (referred as edges) among individual units (e.g., people, servers, brain areas, etc; referred as nodes). There are many things you can learn from such data. We will use functions from **`NetworkX`** to analyze network data.\n",
    "\n",
    "<img style=\"width: 300px; padding: 0px;\" src=\"https://github.com/sathayas/JupyterAnalyticsSpring2018/blob/master/images/Intro_Network.png?raw=true\" alt=\"Les Mis network\"/>\n",
    "\n",
    "<p style=\"text-align:center; font-size:10px;\">Source: http://web.madstudio.northwestern.edu/re-visualizing-the-novel/</p>\n",
    "\n",
    "\n",
    "## Text mining\n",
    "A branch of natural language processing. We can extract information from text data. We will use tools available in **`NLTK`** to extract data from texts.\n",
    "\n",
    "<img style=\"width: 250px; padding: 0px;\" src=\"https://github.com/sathayas/JupyterAnalyticsSpring2018/blob/master/images/Intro_WordTally.png?raw=true\" alt=\"Word tally chart\"/>\n",
    "\n",
    "\n",
    "\n",
    "\n"
   ]
  },
  {
   "cell_type": "markdown",
   "metadata": {},
   "source": [
    "# 2. Git\n",
    "<hr style=\"height:1px;border:none\" />"
   ]
  },
  {
   "cell_type": "markdown",
   "metadata": {
    "collapsed": true
   },
   "source": [
    "Example codes, data, and notes associated with this course will be available from **GitHub** repositories. You can view individual files on GitHub via the links provided. However, since there will be a large number of files associated with this course, it is a good idea to *clone* (or make a local copy) of the repositories using **Git**. Once you clone a repository, it is very easy to update your local copy with changes and additional files, as I update the GitHub repository throughout the semester. \n",
    "\n",
    "### Cloning a repository\n",
    "In order to clone a GitHub repository, *you need to have Git installed on your computer*. The installation instructions are available on Canvas. To clone a repository, you run the following command on the terminal app on Mac or the GitBASH on Windows:\n",
    "```\n",
    "git clone [URL] [Directory Name]\n",
    "```\n",
    "Where `[URL]` is the location of a GitHub repository and `[Directory Name]` is the name of the directory where the contents of the cloned repository will reside. I highly recommend cloning two repositories. One is for codes and data, the other is for notes. Here are their URLs:\n",
    "\n",
    "  * Codes & data:   https://github.com/sathayas/AnalyticsClassSpring2018\n",
    "  * Notes:          https://github.com/sathayas/JupyterAnalyticsSpring2018\n",
    "\n",
    "You should create two separate directories for these.\n",
    "\n",
    "\n",
    "### Updating a repository\n",
    "Once you clone a repository, then you can update your repository whenever I make change to the original GitHub repository (e.g., editing some codes, adding new codes or data, etc.). To do so, you need to go to the directory where you cloned the GitHub repository, and run the following command:\n",
    "```\n",
    "git pull\n",
    "```\n",
    "This should retrieve any changes and addition to your repository from the GitHub repository. \n"
   ]
  },
  {
   "cell_type": "code",
   "execution_count": null,
   "metadata": {
    "collapsed": true
   },
   "outputs": [],
   "source": []
  }
 ],
 "metadata": {
  "kernelspec": {
   "display_name": "Python 3",
   "language": "python",
   "name": "python3"
  },
  "language_info": {
   "codemirror_mode": {
    "name": "ipython",
    "version": 3
   },
   "file_extension": ".py",
   "mimetype": "text/x-python",
   "name": "python",
   "nbconvert_exporter": "python",
   "pygments_lexer": "ipython3",
   "version": "3.5.1"
  }
 },
 "nbformat": 4,
 "nbformat_minor": 2
}
